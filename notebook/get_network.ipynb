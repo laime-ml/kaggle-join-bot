{
 "cells": [
  {
   "cell_type": "code",
   "execution_count": null,
   "id": "cf4334ba-a254-4ec0-a90b-830e9ffeadf1",
   "metadata": {},
   "outputs": [],
   "source": [
    "from selenium import webdriver\n",
    "from selenium.webdriver.chrome.service import Service as ChromeService\n",
    "\n",
    "URL = \"https://www.kaggle.com/kami634/competitions\"\n",
    "options = webdriver.ChromeOptions()\n",
    "options.set_capability(\"goog:loggingPrefs\", {\"performance\": \"ALL\"})\n",
    "driver = webdriver.Chrome(options=options)"
   ]
  },
  {
   "cell_type": "code",
   "execution_count": null,
   "id": "efbbc5d2-f93d-4c83-b39b-6ae53e161a17",
   "metadata": {},
   "outputs": [],
   "source": [
    "import time\n",
    "\n",
    "driver.get(URL)\n",
    "time.sleep(5)\n",
    "network_logs = driver.get_log(\"performance\")"
   ]
  },
  {
   "cell_type": "code",
   "execution_count": 53,
   "id": "9cea1e3b-3420-4449-96f2-8757c77d4eeb",
   "metadata": {},
   "outputs": [],
   "source": [
    "import json"
   ]
  },
  {
   "cell_type": "code",
   "execution_count": 54,
   "id": "86e16ed7-95f6-491e-bfc1-7803caa5c7dc",
   "metadata": {
    "scrolled": true
   },
   "outputs": [
    {
     "name": "stdout",
     "output_type": "stream",
     "text": [
      "dict_keys(['alternateProtocolUsage', 'charset', 'connectionId', 'connectionReused', 'encodedDataLength', 'fromDiskCache', 'fromPrefetchCache', 'fromServiceWorker', 'headers', 'mimeType', 'protocol', 'remoteIPAddress', 'remotePort', 'responseTime', 'securityDetails', 'securityState', 'status', 'statusText', 'timing', 'url'])\n",
      "https://www.kaggle.com/api/i/search.SearchContentService/ListSearchContent\n",
      "dict_keys(['alternateProtocolUsage', 'charset', 'connectionId', 'connectionReused', 'encodedDataLength', 'fromDiskCache', 'fromPrefetchCache', 'fromServiceWorker', 'headers', 'mimeType', 'protocol', 'remoteIPAddress', 'remotePort', 'responseTime', 'securityDetails', 'securityState', 'status', 'statusText', 'timing', 'url'])\n",
      "https://www.kaggle.com/api/i/search.SearchContentService/ListSearchContent\n",
      "dict_keys(['alternateProtocolUsage', 'charset', 'connectionId', 'connectionReused', 'encodedDataLength', 'fromDiskCache', 'fromPrefetchCache', 'fromServiceWorker', 'headers', 'mimeType', 'protocol', 'remoteIPAddress', 'remotePort', 'responseTime', 'securityDetails', 'securityState', 'status', 'statusText', 'timing', 'url'])\n",
      "https://www.kaggle.com/api/i/search.SearchContentService/ListSearchContent\n"
     ]
    }
   ],
   "source": [
    "for entry in network_logs:\n",
    "    message_data = json.loads(entry[\"message\"])[\"message\"][\"params\"]\n",
    "    if \"response\" in message_data:\n",
    "        response_data = message_data[\"response\"]\n",
    "        if \"https://www.kaggle.com/api/i/search.SearchContentService/ListSearchContent\" in response_data[\"url\"]:\n",
    "            print(response_data.keys())\n",
    "            print(response_data[\"url\"])"
   ]
  },
  {
   "cell_type": "code",
   "execution_count": 55,
   "id": "3459e9d2-b3a0-4db7-8439-dd9b11f7298e",
   "metadata": {},
   "outputs": [
    {
     "data": {
      "text/plain": [
       "{'alternateProtocolUsage': 'alternativeJobWonWithoutRace',\n",
       " 'charset': '',\n",
       " 'connectionId': 16565,\n",
       " 'connectionReused': True,\n",
       " 'encodedDataLength': 40,\n",
       " 'fromDiskCache': False,\n",
       " 'fromPrefetchCache': False,\n",
       " 'fromServiceWorker': False,\n",
       " 'headers': {'accept-ranges': 'bytes',\n",
       "  'alt-svc': 'h3=\":443\"; ma=2592000,h3-29=\":443\"; ma=2592000',\n",
       "  'cache-control': 'private, max-age=0',\n",
       "  'content-disposition': 'attachment; filename=\"kaggle/53666/logos/thumb76_76.png\"',\n",
       "  'content-length': '37270',\n",
       "  'content-type': 'application/octet-stream',\n",
       "  'date': 'Sat, 15 Mar 2025 15:35:24 GMT',\n",
       "  'etag': '\"c1748dae8ae8271ac46f74e392a09132\"',\n",
       "  'expires': 'Sat, 15 Mar 2025 15:35:24 GMT',\n",
       "  'last-modified': 'Fri, 21 Jun 2024 16:31:02 GMT',\n",
       "  'server': 'UploadServer',\n",
       "  'x-goog-generation': '1718987462341665',\n",
       "  'x-goog-hash': 'crc32c=l7xBjA==, md5=wXSNroroJxrEb3TjkqCRMg==',\n",
       "  'x-goog-metageneration': '1',\n",
       "  'x-goog-storage-class': 'MULTI_REGIONAL',\n",
       "  'x-goog-stored-content-encoding': 'identity',\n",
       "  'x-goog-stored-content-length': '37270',\n",
       "  'x-guploader-uploadid': 'AKDAyIuQnEgEvKZp-eRpeB7RL4YuKEtMA0dzfLYPY-BqwDM261MUimSDCixUP43QOzxpbzw'},\n",
       " 'mimeType': 'application/octet-stream',\n",
       " 'protocol': 'h3',\n",
       " 'remoteIPAddress': '[2404:6800:400a:813::201b]',\n",
       " 'remotePort': 443,\n",
       " 'responseTime': 1742052924538.308,\n",
       " 'securityDetails': {'certificateId': 0,\n",
       "  'certificateTransparencyCompliance': 'compliant',\n",
       "  'cipher': 'AES_128_GCM',\n",
       "  'encryptedClientHello': False,\n",
       "  'issuer': 'WE2',\n",
       "  'keyExchange': '',\n",
       "  'keyExchangeGroup': 'X25519MLKEM768',\n",
       "  'protocol': 'QUIC',\n",
       "  'sanList': ['storage.googleapis.com'],\n",
       "  'serverSignatureAlgorithm': 1027,\n",
       "  'signedCertificateTimestampList': [{'hashAlgorithm': 'SHA-256',\n",
       "    'logDescription': \"Sectigo 'Sabre2025h1'\",\n",
       "    'logId': 'E092B3FC0C1DC8E768361FDE61B9964D0A5278198A72D672C4B04DA56D6F5404',\n",
       "    'origin': 'Embedded in certificate',\n",
       "    'signatureAlgorithm': 'ECDSA',\n",
       "    'signatureData': '3045022100F3733D4D585C81CD2CFF16D68B7D1BA9F54A9CB38F154007A02F42E99391B738022017E54C7B38D773D8A1BA6A32CE2F1EF20D940D5372EE2F2F09073A80237F5E2F',\n",
       "    'status': 'Verified',\n",
       "    'timestamp': 1740587823725.0},\n",
       "   {'hashAlgorithm': 'SHA-256',\n",
       "    'logDescription': \"Google 'Xenon2025h1' log\",\n",
       "    'logId': 'CF1156EED52E7CAFF3875BD9692E9BE91A71674AB017ECAC01D25B77CECC3B08',\n",
       "    'origin': 'Embedded in certificate',\n",
       "    'signatureAlgorithm': 'ECDSA',\n",
       "    'signatureData': '3045022100ABF4DB0A4FC2AD8DF9AC4685D24C8CE29B06FF67001891E30E0959CD42C6ED7A02202617F4968E331907F1D85D5493D29744F480DD908143B42F466C4687239E0452',\n",
       "    'status': 'Verified',\n",
       "    'timestamp': 1740587823663.0}],\n",
       "  'subjectName': 'storage.googleapis.com',\n",
       "  'validFrom': 1740584222,\n",
       "  'validTo': 1747841821},\n",
       " 'securityState': 'secure',\n",
       " 'status': 200,\n",
       " 'statusText': '',\n",
       " 'timing': {'connectEnd': -1,\n",
       "  'connectStart': -1,\n",
       "  'dnsEnd': -1,\n",
       "  'dnsStart': -1,\n",
       "  'proxyEnd': -1,\n",
       "  'proxyStart': -1,\n",
       "  'pushEnd': 0,\n",
       "  'pushStart': 0,\n",
       "  'receiveHeadersEnd': 325.064,\n",
       "  'receiveHeadersStart': 325.024,\n",
       "  'requestTime': 185673.520504,\n",
       "  'sendEnd': 0.623,\n",
       "  'sendStart': 0.602,\n",
       "  'sslEnd': -1,\n",
       "  'sslStart': -1,\n",
       "  'workerFetchStart': -1,\n",
       "  'workerReady': -1,\n",
       "  'workerRespondWithSettled': -1,\n",
       "  'workerStart': -1},\n",
       " 'url': 'https://storage.googleapis.com/kaggle-competitions/kaggle/81933/logos/thumb76_76.png?GoogleAccessId=web-data@kaggle-161607.iam.gserviceaccount.com&Expires=1742139324&Signature=FVzFH4r502SoXqHB4GrNg%2BLedCSO01XXqjAaWkzTXsmm2YQuQTDEWxJZnQeV9zmL5VtbnrbFz8Gp5V85OEXkMcpc3k836skrLNiULbqOrucTrShHsA8LyUIFqBpV150I%2F5UXTkg1tYIGvtNEUntNoQeN%2Fuj6U%2FO%2BXJ6WIHM8tYQHeHOILuCcI4yWRx09eb27KCxi5fD8%2F4zLFfNCfLu7ZlKVqd6uCJbaDw2RnjOxnsXBPs5NZXehE6P7NB3wKK15FYBuc44ZKsSA8BTbm%2BsSVdpOTO6qi8hew0eIM7NfpA9IGNLplz1Gg2KXkE7X91I0hXo4UurZIgXD4p%2FozGlKPg%3D%3D'}"
      ]
     },
     "execution_count": 55,
     "metadata": {},
     "output_type": "execute_result"
    }
   ],
   "source": [
    "response_data"
   ]
  },
  {
   "cell_type": "code",
   "execution_count": null,
   "id": "782a7e77-ff12-47b5-9449-cb08bd8874d8",
   "metadata": {},
   "outputs": [],
   "source": []
  }
 ],
 "metadata": {
  "kernelspec": {
   "display_name": "Python 3 (ipykernel)",
   "language": "python",
   "name": "python3"
  }
 },
 "nbformat": 4,
 "nbformat_minor": 5
}
